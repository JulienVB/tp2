{
 "cells": [
  {
   "cell_type": "markdown",
   "metadata": {},
   "source": [
    "# Extraction de Keywords"
   ]
  },
  {
   "cell_type": "markdown",
   "metadata": {},
   "source": [
    "## Imports"
   ]
  },
  {
   "cell_type": "code",
   "execution_count": 1,
   "metadata": {},
   "outputs": [],
   "source": [
    "import os\n",
    "import yake"
   ]
  },
  {
   "cell_type": "markdown",
   "metadata": {},
   "source": [
    "## Extraire les mots clés d'un document avec Yake"
   ]
  },
  {
   "cell_type": "markdown",
   "metadata": {},
   "source": [
    "https://github.com/LIAAD/yake"
   ]
  },
  {
   "cell_type": "code",
   "execution_count": 2,
   "metadata": {
    "tags": []
   },
   "outputs": [
    {
     "data": {
      "text/plain": [
       "{'conseil communal', 'conseil général'}"
      ]
     },
     "execution_count": 2,
     "metadata": {},
     "output_type": "execute_result"
    }
   ],
   "source": [
    "# Création d'une liste de mots à ignorer\n",
    "ignored = set([\"conseil communal\", \"conseil général\"])\n",
    "ignored"
   ]
  },
  {
   "cell_type": "code",
   "execution_count": 3,
   "metadata": {},
   "outputs": [
    {
     "data": {
      "text/plain": [
       "<yake.yake.KeywordExtractor at 0x10a561550>"
      ]
     },
     "execution_count": 3,
     "metadata": {},
     "output_type": "execute_result"
    }
   ],
   "source": [
    "# Instantier l'extracteur de mots clés\n",
    "kw_extractor = yake.KeywordExtractor(lan=\"fr\", top=50)\n",
    "kw_extractor"
   ]
  },
  {
   "cell_type": "code",
   "execution_count": 16,
   "metadata": {},
   "outputs": [],
   "source": [
    "# Lister les Fichiers\n",
    "data_path = \"/Users/julienvanbelle/Documents/GitHub/tac/data/txt\"\n",
    "files = os.listdir(data_path)"
   ]
  },
  {
   "cell_type": "code",
   "execution_count": 17,
   "metadata": {},
   "outputs": [
    {
     "data": {
      "text/plain": [
       "2829"
      ]
     },
     "execution_count": 17,
     "metadata": {},
     "output_type": "execute_result"
    }
   ],
   "source": [
    "# Imprimer le nombre de fichiers identifiés\n",
    "len(files)"
   ]
  },
  {
   "cell_type": "code",
   "execution_count": 18,
   "metadata": {},
   "outputs": [
    {
     "data": {
      "text/plain": [
       "['Bxl_1954_Tome_II_Part_10.txt',\n",
       " 'Bxl_1929_Tome_I_Part_2.txt',\n",
       " 'Bxl_1950_Tome_II_Part_7.txt',\n",
       " 'Bxl_1956_Tome_I_Part_13.txt',\n",
       " 'Bxl_1898_Tome_I1_Part_11.txt',\n",
       " 'Bxl_1890_Tome_I2_Part_4.txt',\n",
       " 'Bxl_1976_Tome_II1_Part_7.txt',\n",
       " 'Bxl_1971_Tome_II1_Part_2.txt',\n",
       " 'Bxl_1966_Tome_II2_Part_11.txt',\n",
       " 'Bxl_1926_Tome_II1_Part_16.txt',\n",
       " 'Bxl_1857_Tome_II1_Part_2.txt',\n",
       " 'Lkn_1881_Tome_I_Part_1.txt',\n",
       " 'Bxl_1912_Tome_I2_1_Part_8.txt',\n",
       " 'Bxl_1883_Tome_I2_Part_1.txt',\n",
       " 'Bxl_1864_Tome_I1_Part_2.txt',\n",
       " 'Bxl_1850_Tome_II1_Part_7.txt',\n",
       " 'Bxl_1935_Tome_I_Part_3.txt',\n",
       " 'Bxl_1920_Tome_I2_Part_7.txt',\n",
       " 'Bxl_1881_Tome_I1_Part_5.txt',\n",
       " 'Bxl_1934_Tome_I_Part_5.txt']"
      ]
     },
     "execution_count": 18,
     "metadata": {},
     "output_type": "execute_result"
    }
   ],
   "source": [
    "# Les dix premiers fichiers\n",
    "files[:20]"
   ]
  },
  {
   "cell_type": "code",
   "execution_count": 27,
   "metadata": {},
   "outputs": [
    {
     "data": {
      "text/plain": [
       "22"
      ]
     },
     "execution_count": 27,
     "metadata": {},
     "output_type": "execute_result"
    }
   ],
   "source": [
    "# Enlever les fichiers qui ne commencent pas par Bxl_\n",
    "bxl_files = [f for f in files if f.startswith('Bxl_1890')]\n",
    "len(bxl_files)"
   ]
  },
  {
   "cell_type": "code",
   "execution_count": 28,
   "metadata": {},
   "outputs": [
    {
     "data": {
      "text/plain": [
       "'Bxl_1890_Tome_I2_Part_4.txt'"
      ]
     },
     "execution_count": 28,
     "metadata": {},
     "output_type": "execute_result"
    }
   ],
   "source": [
    "# Choisir un fichier\n",
    "this_file = bxl_files[0]\n",
    "this_file"
   ]
  },
  {
   "cell_type": "code",
   "execution_count": 29,
   "metadata": {},
   "outputs": [
    {
     "data": {
      "text/plain": [
       "\"—\\n\\n307 —\\n\\nD. — Canal de Bruxelles au Rupel.\\n\\nRelevé des diverses recettes effectuées pendant les années 1 8 8 0\\nà 1889 et les six premiers mois de l'armée 1890.\\n\\nPRODUIT\\n\\nDROIT\\n\\nA DU CCS.\\n\\nTOTAL GENERAL.\\n\\ndes\\nDE\\n\\nNAVIGATION.\\n\\nd r o i t s de q n i l t a B c e .\\n\\n1880\\n\\n535,968\\n\\n65\\n\\n1,765\\n\\n60\\n\\n357,754\\n\\n25\\n\\n1881\\n\\n3 1 8 , 9 8 8 47\\n\\n2,080\\n\\n»\\n\\n321,068\\n\\n47\\n\\n1882\\n\\n5 1 1 , 7 4 9 34\\n\\n2,065\\n\\n10\\n\\n315,814\\n\\n44\\n\\n1883\\n\\n279,778\\n\\n03\\n\\n1,863\\n\\n60\\n\\n281,645\\n\\n65\\n\\n1884\\n\\n281,616\\n\\n46\\n\\n1,882\\n\\n80\\n\\n285,499\\n\\n26\\n\\n1885\\n\\n277,147\\n\""
      ]
     },
     "execution_count": 29,
     "metadata": {},
     "output_type": "execute_result"
    }
   ],
   "source": [
    "# Récupérer le texte du fichier\n",
    "text = open(os.path.join(data_path, this_file), 'r').read()\n",
    "text[:500]"
   ]
  },
  {
   "cell_type": "code",
   "execution_count": 30,
   "metadata": {},
   "outputs": [],
   "source": [
    "# Extraire les mots clés de ce texte\n",
    "keywords = kw_extractor.extract_keywords(text)"
   ]
  },
  {
   "cell_type": "code",
   "execution_count": 31,
   "metadata": {},
   "outputs": [
    {
     "data": {
      "text/plain": [
       "[('rue', 0.00017731027214735613),\n",
       " ('Rues', 0.001957232619472739),\n",
       " ('TOTAL', 0.0023184547105905944),\n",
       " ('Bruxelles', 0.002402418157979705),\n",
       " ('Place', 0.0026478207213482944),\n",
       " ('travaux', 0.003594054177987871),\n",
       " ('Rue Haute', 0.0035997223545699212),\n",
       " ('division', 0.003613418998682365),\n",
       " ('Société', 0.0037275538080247216),\n",
       " ('nombre', 0.0038306949999836024),\n",
       " ('Décès', 0.003923658534523346),\n",
       " ('service', 0.004324296310104301),\n",
       " ('Rue Van', 0.004735639203750426),\n",
       " ('chemins de fer', 0.004802919166130626),\n",
       " ('rue Blaes', 0.0058225705030010315),\n",
       " ('Conseil', 0.005844899736954461),\n",
       " ('classe', 0.005851717455154898),\n",
       " ('rue Royale', 0.00586527917998525),\n",
       " ('ville', 0.006045864927439698),\n",
       " ('rue Ducale', 0.006120980143466294),\n",
       " ('Rue Joseph', 0.006444705600190998),\n",
       " ('fer', 0.006676380238299841),\n",
       " ('Rue Van Artevelde', 0.00685905880132735),\n",
       " ('cours', 0.006870153312998982),\n",
       " ('rue Auguste Orts', 0.006929762823951592),\n",
       " (\"l'année\", 0.007025433124833065),\n",
       " ('voies rue', 0.007129921867892175),\n",
       " ('Conseil communal', 0.0071685572538534885),\n",
       " ('Section', 0.007200697869497996),\n",
       " ('rues suivantes', 0.007466134033362566),\n",
       " ('rue Ernest Allard', 0.007974135889598569),\n",
       " ('tramway', 0.008131363243730635),\n",
       " ('ans', 0.008771799533475615),\n",
       " ('rue Auguste', 0.009266373856268354),\n",
       " ('rue Souveraine', 0.009367202088630107),\n",
       " ('Totaux', 0.009503766944971766),\n",
       " (\"d'une\", 0.009549320969927886),\n",
       " ('maladies', 0.009612387572501584),\n",
       " ('moyenne', 0.009621964822663982),\n",
       " ('Rue de Ruysbroeck', 0.01032489149738245),\n",
       " ('Section moyenne', 0.01069071822310504),\n",
       " ('police', 0.010864999583650795),\n",
       " ('chemins', 0.011228320075511555),\n",
       " ('voies rue Belliard', 0.01145751607455848),\n",
       " ('demande', 0.011622281777411992),\n",
       " ('Ligne', 0.011632102535764592),\n",
       " ('voie', 0.012012182060473758),\n",
       " ('voies', 0.012012182060473758),\n",
       " (\"d'un\", 0.012119383504520484),\n",
       " ('rue du Luxembourg', 0.012268472038843703)]"
      ]
     },
     "execution_count": 31,
     "metadata": {},
     "output_type": "execute_result"
    }
   ],
   "source": [
    "keywords"
   ]
  },
  {
   "cell_type": "code",
   "execution_count": 32,
   "metadata": {},
   "outputs": [
    {
     "data": {
      "text/plain": [
       "['Rue Haute',\n",
       " 'Rue Van',\n",
       " 'rue Blaes',\n",
       " 'rue Royale',\n",
       " 'rue Ducale',\n",
       " 'Rue Joseph',\n",
       " 'voies rue',\n",
       " 'rues suivantes',\n",
       " 'rue Auguste',\n",
       " 'rue Souveraine',\n",
       " 'Section moyenne']"
      ]
     },
     "execution_count": 32,
     "metadata": {},
     "output_type": "execute_result"
    }
   ],
   "source": [
    "# Ne garder que les bigrammes\n",
    "kept = []\n",
    "for kw, score in keywords:\n",
    "    words = kw.split()\n",
    "    if len(words) == 2 and kw.lower() not in ignored:\n",
    "        kept.append(kw)\n",
    "kept"
   ]
  },
  {
   "cell_type": "markdown",
   "metadata": {},
   "source": [
    "## Faire la même opération sur tous les documents"
   ]
  },
  {
   "cell_type": "code",
   "execution_count": 33,
   "metadata": {},
   "outputs": [
    {
     "name": "stdout",
     "output_type": "stream",
     "text": [
      "Bxl_1890_Tome_I1_Part_1.txt mentions these keywords: conseil supérieur, l'administration communale...\n",
      "Bxl_1890_Tome_I1_Part_2.txt mentions these keywords: travaux manuels, droits acquis, qu'il serait, nouvelle caisse, l'echevin andré...\n",
      "Bxl_1890_Tome_I1_Part_3.txt mentions these keywords: dépenses ordinaires, tramways bruxellois, conseil académique, arts décoratifs, dépenses extraordinaires...\n",
      "Bxl_1890_Tome_I1_Part_4.txt mentions these keywords: voie publique, tramways bruxellois...\n",
      "Bxl_1890_Tome_I1_Part_5.txt mentions these keywords: mètres cubes, mètre cube, d'un terrain, rue nouvelle, mètre carré...\n",
      "Bxl_1890_Tome_I1_Part_6.txt mentions these keywords: élèves internes, rue neuve, service médical, l'honorable bourgmestre, rue nouvelle...\n",
      "Bxl_1890_Tome_I1_Part_7.txt mentions these keywords: place rouppe, grande distinction, l'echevin janssen...\n",
      "Bxl_1890_Tome_I1_Part_8.txt mentions these keywords: élèves internes, service médical, service. art, élèves externes, nommé membre...\n",
      "Bxl_1890_Tome_I2_Part_1.txt mentions these keywords: devient l'art, conseil d'administration, règlement organique, d'une rue, école moyenne...\n",
      "Bxl_1890_Tome_I2_Part_10.txt mentions these keywords: l'echevin walravens, taxe communale, conseil provincial, l'echevin andré...\n"
     ]
    }
   ],
   "source": [
    "for f in sorted(bxl_files)[:10]:\n",
    "    text = open(os.path.join(data_path, f), 'r').read()\n",
    "    keywords = kw_extractor.extract_keywords(text.lower())  ##.lower() ==> permet de mettre le texte en miniscule\n",
    "    kept = []\n",
    "    for kw, score in keywords:\n",
    "        words = kw.split()\n",
    "        if len(words) == 2 and kw.lower() not in ignored:\n",
    "            kept.append(kw)\n",
    "    print(f\"{f} mentions these keywords: {', '.join(kept)}...\")"
   ]
  }
 ],
 "metadata": {
  "interpreter": {
   "hash": "aee8b7b246df8f9039afb4144a1f6fd8d2ca17a180786b69acc140d282b71a49"
  },
  "kernelspec": {
   "display_name": "Python 3.9.7 64-bit",
   "name": "python3"
  },
  "language_info": {
   "codemirror_mode": {
    "name": "ipython",
    "version": 3
   },
   "file_extension": ".py",
   "mimetype": "text/x-python",
   "name": "python",
   "nbconvert_exporter": "python",
   "pygments_lexer": "ipython3",
   "version": "3.9.7"
  }
 },
 "nbformat": 4,
 "nbformat_minor": 4
}
