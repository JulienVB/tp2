{
 "cells": [
  {
   "cell_type": "markdown",
   "metadata": {},
   "source": [
    "# Extraction de Keywords"
   ]
  },
  {
   "cell_type": "markdown",
   "metadata": {},
   "source": [
    "## Imports"
   ]
  },
  {
   "cell_type": "code",
   "execution_count": 2,
   "metadata": {},
   "outputs": [],
   "source": [
    "import os\n",
    "import yake"
   ]
  },
  {
   "cell_type": "markdown",
   "metadata": {},
   "source": [
    "## Extraire les mots clés d'un document avec Yake"
   ]
  },
  {
   "cell_type": "markdown",
   "metadata": {},
   "source": [
    "https://github.com/LIAAD/yake"
   ]
  },
  {
   "cell_type": "code",
   "execution_count": 3,
   "metadata": {
    "tags": []
   },
   "outputs": [
    {
     "data": {
      "text/plain": [
       "{'conseil communal', 'conseil général'}"
      ]
     },
     "execution_count": 3,
     "metadata": {},
     "output_type": "execute_result"
    }
   ],
   "source": [
    "# Création d'une liste de mots à ignorer\n",
    "ignored = set([\"conseil communal\", \"conseil général\"])\n",
    "ignored"
   ]
  },
  {
   "cell_type": "code",
   "execution_count": 4,
   "metadata": {},
   "outputs": [
    {
     "data": {
      "text/plain": [
       "<yake.yake.KeywordExtractor at 0x11295a430>"
      ]
     },
     "execution_count": 4,
     "metadata": {},
     "output_type": "execute_result"
    }
   ],
   "source": [
    "# Instantier l'extracteur de mots clés\n",
    "kw_extractor = yake.KeywordExtractor(lan=\"fr\", top=50)\n",
    "kw_extractor"
   ]
  },
  {
   "cell_type": "code",
   "execution_count": 10,
   "metadata": {},
   "outputs": [],
   "source": [
    "# Lister les Fichiers\n",
    "data_path = \"../data/txt/\"\n",
    "files = os.listdir(data_path)"
   ]
  },
  {
   "cell_type": "code",
   "execution_count": 11,
   "metadata": {},
   "outputs": [
    {
     "data": {
      "text/plain": [
       "2829"
      ]
     },
     "execution_count": 11,
     "metadata": {},
     "output_type": "execute_result"
    }
   ],
   "source": [
    "# Imprimer le nombre de fichiers identifiés\n",
    "len(files)"
   ]
  },
  {
   "cell_type": "code",
   "execution_count": 7,
   "metadata": {},
   "outputs": [
    {
     "data": {
      "text/plain": [
       "['Bxl_1954_Tome_II_Part_10.txt',\n",
       " 'Bxl_1929_Tome_I_Part_2.txt',\n",
       " 'Bxl_1950_Tome_II_Part_7.txt',\n",
       " 'Bxl_1956_Tome_I_Part_13.txt',\n",
       " 'Bxl_1898_Tome_I1_Part_11.txt',\n",
       " 'Bxl_1890_Tome_I2_Part_4.txt',\n",
       " 'Bxl_1976_Tome_II1_Part_7.txt',\n",
       " 'Bxl_1971_Tome_II1_Part_2.txt',\n",
       " 'Bxl_1966_Tome_II2_Part_11.txt',\n",
       " 'Bxl_1926_Tome_II1_Part_16.txt',\n",
       " 'Bxl_1857_Tome_II1_Part_2.txt',\n",
       " 'Lkn_1881_Tome_I_Part_1.txt',\n",
       " 'Bxl_1912_Tome_I2_1_Part_8.txt',\n",
       " 'Bxl_1883_Tome_I2_Part_1.txt',\n",
       " 'Bxl_1864_Tome_I1_Part_2.txt',\n",
       " 'Bxl_1850_Tome_II1_Part_7.txt',\n",
       " 'Bxl_1935_Tome_I_Part_3.txt',\n",
       " 'Bxl_1920_Tome_I2_Part_7.txt',\n",
       " 'Bxl_1881_Tome_I1_Part_5.txt',\n",
       " 'Bxl_1934_Tome_I_Part_5.txt']"
      ]
     },
     "execution_count": 7,
     "metadata": {},
     "output_type": "execute_result"
    }
   ],
   "source": [
    "# Les dix premiers fichiers\n",
    "files[:20]"
   ]
  },
  {
   "cell_type": "code",
   "execution_count": 13,
   "metadata": {},
   "outputs": [
    {
     "data": {
      "text/plain": [
       "2677"
      ]
     },
     "execution_count": 13,
     "metadata": {},
     "output_type": "execute_result"
    }
   ],
   "source": [
    "# Enlever les fichiers qui ne commencent pas par Bxl_\n",
    "bxl_files = [f for f in files if f.startswith('Bxl_')]\n",
    "len(bxl_files)"
   ]
  },
  {
   "cell_type": "code",
   "execution_count": 15,
   "metadata": {},
   "outputs": [
    {
     "data": {
      "text/plain": [
       "'Bxl_1954_Tome_II_Part_10.txt'"
      ]
     },
     "execution_count": 15,
     "metadata": {},
     "output_type": "execute_result"
    }
   ],
   "source": [
    "# Choisir un fichier\n",
    "this_file = bxl_files[0]\n",
    "this_file"
   ]
  },
  {
   "cell_type": "code",
   "execution_count": 16,
   "metadata": {},
   "outputs": [
    {
     "data": {
      "text/plain": [
       "'— 887 —\\n\\n(4 octobre 1954)\\n\\n§ VII. — Fêtes de quartier\\nLes Comités de quartier ont fait preuve de leur habituelle\\nactivité tout au long de Tannée.\\nDes manifestations, telles que cortèges, bals populaires,\\nattractions foraines, jeux populaires, concerts-promenades et\\nconcerts sur kiosques, ont contribué largement au succès de ces\\nfêtes, qui ont remporté les suffrages mérités de la population.\\nLa Ville a mis gracieusement des kiosques à la disposition\\ndes Comités. Elle a, en outre, réparti, pour la'"
      ]
     },
     "execution_count": 16,
     "metadata": {},
     "output_type": "execute_result"
    }
   ],
   "source": [
    "# Récupérer le texte du fichier\n",
    "text = open(os.path.join(data_path, this_file), 'r').read()\n",
    "text[:500]"
   ]
  },
  {
   "cell_type": "code",
   "execution_count": 21,
   "metadata": {},
   "outputs": [],
   "source": [
    "# Extraire les mots clés de ce texte\n",
    "keywords = kw_extractor.extract_keywords(text)"
   ]
  },
  {
   "cell_type": "code",
   "execution_count": 22,
   "metadata": {},
   "outputs": [
    {
     "data": {
      "text/plain": [
       "[('conseil', 0.0011232164665953856),\n",
       " ('BRUXELLES', 0.0016359494155306908),\n",
       " ('ville', 0.0018541726604765477),\n",
       " ('section', 0.0018549872790184193),\n",
       " ('collège', 0.0019084139381989257),\n",
       " ('mais', 0.0021279981953971757),\n",
       " ('Parc', 0.002360595950570377),\n",
       " ('voie publique', 0.0024127446793648353),\n",
       " ('rue', 0.0024646778678152387),\n",
       " ('grillage', 0.0026079102493381558),\n",
       " ('marché', 0.0027425205878500334),\n",
       " (\"d'une\", 0.002843729810534994),\n",
       " ('règlement', 0.003006551989215122),\n",
       " ('section des travaux', 0.0032083031451141516),\n",
       " ('faire', 0.003387930195889298),\n",
       " ('conseil communal', 0.0034409629715803146),\n",
       " ('projet', 0.0035363491086325563),\n",
       " (\"c'est\", 0.0036960808218154265),\n",
       " ('Messieurs', 0.003750067460882675),\n",
       " ('place', 0.004035506587512552),\n",
       " ('ville de Bruxelles', 0.004333629661169536),\n",
       " ('bourgmestre', 0.004441289662150076),\n",
       " ('voie', 0.004480387504330477),\n",
       " ('police', 0.004768314917769504),\n",
       " ('avons', 0.004886578699812625),\n",
       " ('Rapport', 0.005089798952598183),\n",
       " ('travaux publics', 0.005149225390213769),\n",
       " (\"d'un\", 0.0053234513930601555),\n",
       " (\"qu'il\", 0.0054032967763565885),\n",
       " ('présent règlement', 0.005486673162761274),\n",
       " ('travaux', 0.005694463228149193),\n",
       " ('publique', 0.0062756195612308175),\n",
       " ('rue Royale', 0.006297718959001265),\n",
       " ('séance', 0.006328362085567726),\n",
       " ('art', 0.006566626245521794),\n",
       " ('centimètres', 0.006575946003951131),\n",
       " ('grille', 0.00676461446956879),\n",
       " ('rues', 0.006825261787796046),\n",
       " ('collège des bourgmestre', 0.006934952270102042),\n",
       " ('trottoirs', 0.007095709878780376),\n",
       " ('bourgmestre et échevins', 0.0077197475680191585),\n",
       " ('Madeleine', 0.008005323538696383),\n",
       " ('mars', 0.008322474667090388),\n",
       " ('commissionnaires', 0.00836515579438998),\n",
       " ('conseil central', 0.008415843759230409),\n",
       " ('serait', 0.008586480553798662),\n",
       " ('portes', 0.008777250015153231),\n",
       " ('section des finances', 0.008837132837014901),\n",
       " ('plinthe', 0.009278617715717221),\n",
       " (\"qu'on\", 0.009435375840016079)]"
      ]
     },
     "execution_count": 22,
     "metadata": {},
     "output_type": "execute_result"
    }
   ],
   "source": [
    "keywords"
   ]
  },
  {
   "cell_type": "code",
   "execution_count": 24,
   "metadata": {},
   "outputs": [
    {
     "data": {
      "text/plain": [
       "['voie publique',\n",
       " 'travaux publics',\n",
       " 'présent règlement',\n",
       " 'rue Royale',\n",
       " 'conseil central']"
      ]
     },
     "execution_count": 24,
     "metadata": {},
     "output_type": "execute_result"
    }
   ],
   "source": [
    "# Ne garder que les bigrammes\n",
    "kept = []\n",
    "for kw, score in keywords:\n",
    "    words = kw.split()\n",
    "    if len(words) == 2 and kw.lower() not in ignored:\n",
    "        kept.append(kw)\n",
    "kept"
   ]
  },
  {
   "cell_type": "markdown",
   "metadata": {},
   "source": [
    "## Faire la même opération sur tous les documents"
   ]
  },
  {
   "cell_type": "code",
   "execution_count": 27,
   "metadata": {},
   "outputs": [
    {
     "name": "stdout",
     "output_type": "stream",
     "text": [
      "Bxl_1847_Tome_I1_Part_1.txt mentions these keywords: marchés couverts, d'un marché, marché couvert, nouveau marché, marché dans, marché saint-jean, marché projeté, marchés actuels, marchés marché...\n",
      "Bxl_1847_Tome_I1_Part_2.txt mentions these keywords: belgique communale, l'administration communale...\n",
      "Bxl_1847_Tome_I1_Part_3.txt mentions these keywords: rue royale, bons communaux, d'un marché, d'une place, qu'il faut...\n",
      "Bxl_1847_Tome_I1_Part_4.txt mentions these keywords: rue royale, l'instruction primaire, qu'il faut, loi communale, rue duquesnoy, conseil provincial...\n",
      "Bxl_1847_Tome_I1_Part_5.txt mentions these keywords: parce qu'il, qu'il faut...\n",
      "Bxl_1848_Tome_I1_Part_1.txt mentions these keywords: d'un conseil, ouvriers patentés, qu'il faut...\n",
      "Bxl_1848_Tome_I1_Part_2.txt mentions these keywords: qu'il serait, hectolitres d'eau, travaux publics, mètre cube, société civile...\n",
      "Bxl_1848_Tome_I1_Part_3.txt mentions these keywords: distribution d'eau, qu'il serait, travaux publics, quantité d'eau, d'un réservoir, d'un système...\n",
      "Bxl_1849_Tome_I1_Part_1.txt mentions these keywords: règlement général, règlement organique, grandes caves...\n",
      "Bxl_1849_Tome_I1_Part_2.txt mentions these keywords: voie publique, travaux publics, présent règlement, conseil central, rue royale...\n"
     ]
    }
   ],
   "source": [
    "for f in sorted(bxl_files)[:10]:\n",
    "    text = open(os.path.join(data_path, f), 'r').read()\n",
    "    keywords = kw_extractor.extract_keywords(text.lower())  ##.lower() ==> permet de mettre le texte en miniscule\n",
    "    kept = []\n",
    "    for kw, score in keywords:\n",
    "        words = kw.split()\n",
    "        if len(words) == 2 and kw.lower() not in ignored:\n",
    "            kept.append(kw)\n",
    "    print(f\"{f} mentions these keywords: {', '.join(kept)}...\")"
   ]
  }
 ],
 "metadata": {
  "interpreter": {
   "hash": "aee8b7b246df8f9039afb4144a1f6fd8d2ca17a180786b69acc140d282b71a49"
  },
  "kernelspec": {
   "display_name": "Python 3.9.7 64-bit",
   "name": "python3"
  },
  "language_info": {
   "codemirror_mode": {
    "name": "ipython",
    "version": 3
   },
   "file_extension": ".py",
   "mimetype": "text/x-python",
   "name": "python",
   "nbconvert_exporter": "python",
   "pygments_lexer": "ipython3",
   "version": "3.9.7"
  }
 },
 "nbformat": 4,
 "nbformat_minor": 4
}
