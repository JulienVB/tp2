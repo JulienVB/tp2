{
 "cells": [
  {
   "cell_type": "markdown",
   "metadata": {},
   "source": [
    "# TP2 - Julien Vanbelle"
   ]
  },
  {
   "cell_type": "markdown",
   "metadata": {},
   "source": [
    "## Imports"
   ]
  },
  {
   "cell_type": "code",
   "execution_count": 40,
   "metadata": {},
   "outputs": [],
   "source": [
    "import os\n",
    "import yake"
   ]
  },
  {
   "cell_type": "code",
   "execution_count": 41,
   "metadata": {
    "tags": []
   },
   "outputs": [
    {
     "data": {
      "text/plain": [
       "{'conseil communal',\n",
       " \"conseil d'administration\",\n",
       " 'conseil général',\n",
       " 'conseil provincial',\n",
       " 'conseil supérieur'}"
      ]
     },
     "execution_count": 41,
     "metadata": {},
     "output_type": "execute_result"
    }
   ],
   "source": [
    "# Création d'une liste de mots à ignorer\n",
    "ignored = set([\"conseil communal\", \"conseil général\", \"conseil d'administration\",\"conseil supérieur\",\"conseil provincial\"])\n",
    "ignored"
   ]
  },
  {
   "cell_type": "code",
   "execution_count": 42,
   "metadata": {},
   "outputs": [
    {
     "data": {
      "text/plain": [
       "<yake.yake.KeywordExtractor at 0x1168ece50>"
      ]
     },
     "execution_count": 42,
     "metadata": {},
     "output_type": "execute_result"
    }
   ],
   "source": [
    "# Instantier l'extracteur de mots clés\n",
    "kw_extractor = yake.KeywordExtractor(lan=\"fr\", top=50)\n",
    "kw_extractor"
   ]
  },
  {
   "cell_type": "code",
   "execution_count": 43,
   "metadata": {},
   "outputs": [],
   "source": [
    "# Lister les Fichiers\n",
    "data_path = \"/Users/julienvanbelle/Documents/GitHub/tac/data/txt\"\n",
    "files = os.listdir(data_path)"
   ]
  },
  {
   "cell_type": "code",
   "execution_count": 44,
   "metadata": {},
   "outputs": [
    {
     "data": {
      "text/plain": [
       "2829"
      ]
     },
     "execution_count": 44,
     "metadata": {},
     "output_type": "execute_result"
    }
   ],
   "source": [
    "# Imprimer le nombre de fichiers identifiés\n",
    "len(files)"
   ]
  },
  {
   "cell_type": "code",
   "execution_count": 45,
   "metadata": {},
   "outputs": [
    {
     "data": {
      "text/plain": [
       "22"
      ]
     },
     "execution_count": 45,
     "metadata": {},
     "output_type": "execute_result"
    }
   ],
   "source": [
    "# Enlever les fichiers qui ne commencent pas par Bxl_\n",
    "date_files = [f for f in files if f.startswith('Bxl_1890')]\n",
    "len(date_files)"
   ]
  },
  {
   "cell_type": "markdown",
   "metadata": {},
   "source": [
    "## Faire la même opération sur tous les documents"
   ]
  },
  {
   "cell_type": "code",
   "execution_count": 46,
   "metadata": {},
   "outputs": [
    {
     "name": "stdout",
     "output_type": "stream",
     "text": [
      "Bxl_1890_Tome_I1_Part_1.txt mentions these keywords: l'administration communale...\n",
      "Bxl_1890_Tome_I1_Part_2.txt mentions these keywords: travaux manuels, droits acquis, qu'il serait, nouvelle caisse, l'echevin andré...\n",
      "Bxl_1890_Tome_I1_Part_3.txt mentions these keywords: dépenses ordinaires, tramways bruxellois, conseil académique, arts décoratifs, dépenses extraordinaires...\n",
      "Bxl_1890_Tome_I1_Part_4.txt mentions these keywords: voie publique, tramways bruxellois...\n",
      "Bxl_1890_Tome_I1_Part_5.txt mentions these keywords: mètres cubes, mètre cube, d'un terrain, rue nouvelle, mètre carré...\n",
      "Bxl_1890_Tome_I1_Part_6.txt mentions these keywords: élèves internes, rue neuve, service médical, l'honorable bourgmestre, rue nouvelle...\n",
      "Bxl_1890_Tome_I1_Part_7.txt mentions these keywords: place rouppe, grande distinction, l'echevin janssen...\n",
      "Bxl_1890_Tome_I1_Part_8.txt mentions these keywords: élèves internes, service médical, service. art, élèves externes, nommé membre...\n",
      "Bxl_1890_Tome_I2_Part_1.txt mentions these keywords: devient l'art, règlement organique, d'une rue, école moyenne...\n",
      "Bxl_1890_Tome_I2_Part_10.txt mentions these keywords: l'echevin walravens, taxe communale, l'echevin andré...\n",
      "Bxl_1890_Tome_I2_Part_11.txt mentions these keywords: frais d'administration, bulletin communal, frais généraux, frais d'entretien, évaluations recettes...\n",
      "Bxl_1890_Tome_I2_Part_12.txt mentions these keywords: maison rue, anciens emprunts, titres sortis, ecole rue...\n",
      "Bxl_1890_Tome_I2_Part_13.txt mentions these keywords: hospice pachéco, frais d'entretien, hôpital saint-pierre, nue propriété, fonds commun, hospice roger, voir tableau, enfants assistés, hôpital saint-jean, frais imprévus, rue pachéco...\n",
      "Bxl_1890_Tome_I2_Part_14.txt mentions these keywords: procès intenté, avis émis, nommé membre...\n",
      "Bxl_1890_Tome_I2_Part_2.txt mentions these keywords: service ordinaire, service extraordinaire, dépenses ordinaires, dépensé dépense, recettes extraordinaires, recettes ordinaires, frais d'administration, service sanitaire, dépenses extraordinaires...\n",
      "Bxl_1890_Tome_I2_Part_3.txt mentions these keywords: membres effectifs, membres suppléants, avis favorable, place rogier, avons l'honneur, fer vicinal, maison rue, d'une partie...\n",
      "Bxl_1890_Tome_I2_Part_4.txt mentions these keywords: rue rue, rue haute, rues suivantes, voies rue, rue joseph, rue van...\n",
      "Bxl_1890_Tome_I2_Part_5.txt mentions these keywords: paiement d'une, d'une somme, rue haute...\n",
      "Bxl_1890_Tome_I2_Part_6.txt mentions these keywords: concerts populaires, rue duquesnoy, travaux publics, l'echevin janssen...\n",
      "Bxl_1890_Tome_I2_Part_7.txt mentions these keywords: mètres cubes, mètre cube, j'ai pris, pris part, revenu cadastral...\n",
      "Bxl_1890_Tome_I2_Part_8.txt mentions these keywords: mètres cubes, revenu cadastral, d'un centime, mètre cube, gaz d'un, gaz vendu, l'honorable membre...\n",
      "Bxl_1890_Tome_I2_Part_9.txt mentions these keywords: sociétés coopératives, secours mutuels, l'echevin janssen, sociétés anonymes, sociétés reconnues, d'une société, l'echevin andré, l'honorable membre...\n"
     ]
    }
   ],
   "source": [
    "for f in sorted(date_files):\n",
    "    text = open(os.path.join(data_path, f), 'r').read()\n",
    "    keywords = kw_extractor.extract_keywords(text.lower())  ##.lower() ==> permet de mettre le texte en miniscule\n",
    "    kept = []\n",
    "    for kw, score in keywords:\n",
    "        words = kw.split()\n",
    "        if len(words) == 2 and kw.lower() not in ignored:\n",
    "            kept.append(kw)\n",
    "    print(f\"{f} mentions these keywords: {', '.join(kept)}...\")"
   ]
  }
 ],
 "metadata": {
  "interpreter": {
   "hash": "aee8b7b246df8f9039afb4144a1f6fd8d2ca17a180786b69acc140d282b71a49"
  },
  "kernelspec": {
   "display_name": "Python 3.9.7 64-bit",
   "name": "python3"
  },
  "language_info": {
   "codemirror_mode": {
    "name": "ipython",
    "version": 3
   },
   "file_extension": ".py",
   "mimetype": "text/x-python",
   "name": "python",
   "nbconvert_exporter": "python",
   "pygments_lexer": "ipython3",
   "version": "3.9.7"
  }
 },
 "nbformat": 4,
 "nbformat_minor": 4
}
